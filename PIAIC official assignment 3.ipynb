{
 "cells": [
  {
   "cell_type": "markdown",
   "metadata": {},
   "source": [
    "# Q1 Think of at least three kinds of your favorite pizza. Store these pizza names in a list, and then use a for loop to print the name of each pizza.\n"
   ]
  },
  {
   "cell_type": "code",
   "execution_count": 3,
   "metadata": {},
   "outputs": [
    {
     "name": "stdout",
     "output_type": "stream",
     "text": [
      "Spicy Ranch\n",
      "Chiken Superem\n",
      "Chicken Fajita\n"
     ]
    }
   ],
   "source": [
    "pizza_names = ['Spicy Ranch', 'Chiken Superem', 'Chicken Fajita']\n",
    "for pizza in pizza_names:\n",
    "    print(pizza)\n"
   ]
  },
  {
   "cell_type": "markdown",
   "metadata": {},
   "source": [
    "# Q2 Start with your last question , Modify your for loop to print a sentence using the name of the pizza instead of printing just the name of the pizza. For each pizza you should have one line of output containing a simple statement like I like pepperoni pizza."
   ]
  },
  {
   "cell_type": "code",
   "execution_count": 4,
   "metadata": {},
   "outputs": [
    {
     "name": "stdout",
     "output_type": "stream",
     "text": [
      "I really love Spicy Ranch\n",
      "I really love Chiken Superem\n",
      "I really love Chicken Fajita\n"
     ]
    }
   ],
   "source": [
    "for pizza in pizza_names:\n",
    "    print(f\"I really love {pizza}\")\n"
   ]
  },
  {
   "cell_type": "markdown",
   "metadata": {},
   "source": [
    "# Q3 Use a for loop to print the numbers from 1 to 20, inclusive."
   ]
  },
  {
   "cell_type": "code",
   "execution_count": 5,
   "metadata": {},
   "outputs": [
    {
     "name": "stdout",
     "output_type": "stream",
     "text": [
      "1\n",
      "2\n",
      "3\n",
      "4\n",
      "5\n",
      "6\n",
      "7\n",
      "8\n",
      "9\n",
      "10\n",
      "11\n",
      "12\n",
      "13\n",
      "14\n",
      "15\n",
      "16\n",
      "17\n",
      "18\n",
      "19\n",
      "20\n"
     ]
    }
   ],
   "source": [
    "numbers = list(range(1,21))\n",
    "for number in numbers:\n",
    "    print(number)\n"
   ]
  },
  {
   "cell_type": "markdown",
   "metadata": {},
   "source": [
    "# Q4 Use the third argument of the range() function to make a list of the odd numbers from 1 to 20. Use a for loop to print each number."
   ]
  },
  {
   "cell_type": "code",
   "execution_count": 6,
   "metadata": {},
   "outputs": [
    {
     "name": "stdout",
     "output_type": "stream",
     "text": [
      "Odd Numbers from 1 to 20 are: \n",
      "1\n",
      "3\n",
      "5\n",
      "7\n",
      "9\n",
      "11\n",
      "13\n",
      "15\n",
      "17\n",
      "19\n"
     ]
    }
   ],
   "source": [
    "print(\"Odd Numbers from 1 to 20 are: \")\n",
    "for i in range(1,21,2):\n",
    "    print(i)\n"
   ]
  },
  {
   "cell_type": "markdown",
   "metadata": {},
   "source": [
    "# Q5 Make a list of the multiples of 3 from 3 to 30. Use a for loop to print the numbers in your list."
   ]
  },
  {
   "cell_type": "code",
   "execution_count": 8,
   "metadata": {},
   "outputs": [
    {
     "name": "stdout",
     "output_type": "stream",
     "text": [
      "Multiples of 3 from 3 to 30 list: \n",
      "3\n",
      "6\n",
      "9\n",
      "12\n",
      "15\n",
      "18\n",
      "21\n",
      "24\n",
      "27\n",
      "30\n"
     ]
    }
   ],
   "source": [
    "print(\"Multiples of 3 from 3 to 30 list: \")\n",
    "for i in range(3,31,3):\n",
    "    print(i)\n"
   ]
  },
  {
   "cell_type": "markdown",
   "metadata": {},
   "source": [
    "# Q6 A number raised to the third power is called a cube. For example, the cube of 2 is written as 2**3 in Python. Make a list of the first 10 cubes (that is, the cube of each integer from 1 through 10), and use a for loop to print out the value of each cube."
   ]
  },
  {
   "cell_type": "code",
   "execution_count": 9,
   "metadata": {},
   "outputs": [
    {
     "name": "stdout",
     "output_type": "stream",
     "text": [
      "[1, 8, 27, 64, 125, 216, 343, 512, 729, 1000]\n"
     ]
    }
   ],
   "source": [
    "cubes = []\n",
    "for i in range(1,11):\n",
    "    cubes.append(i**3)\n",
    "print(cubes)\n"
   ]
  },
  {
   "cell_type": "markdown",
   "metadata": {},
   "source": [
    "# Q7 Make a python program that conatains your nine favourite dishes in a list called foods.\n",
    "1. Print the message, The first three items in the list are:. Then use a slice to print the first three items from that program’s list.\n",
    "2. Print the message, Three items from the middle of the list are: Use a slice to print three items from the middle of the list. \n",
    "3. Print the message, The last three items in the list are: Use a slice to print the last three items in the list."
   ]
  },
  {
   "cell_type": "code",
   "execution_count": 11,
   "metadata": {},
   "outputs": [
    {
     "name": "stdout",
     "output_type": "stream",
     "text": [
      "The First Three Items In The List Are: \n",
      "['Chiken Rice Balls', 'Koila Karahi', 'Pizza']\n"
     ]
    }
   ],
   "source": [
    "foods = ['Chiken Rice Balls','Koila Karahi','Pizza','Pasta','Fried Rice','Chowmein','Steak','Sandwich','Chicken Nuggets']\n",
    "print(\"The First Three Items In The List Are: \")\n",
    "print(foods[0:3])\n"
   ]
  },
  {
   "cell_type": "code",
   "execution_count": 12,
   "metadata": {},
   "outputs": [
    {
     "name": "stdout",
     "output_type": "stream",
     "text": [
      "The Middle Three Items In The List Are: \n",
      "['Pasta', 'Fried Rice', 'Chowmein']\n"
     ]
    }
   ],
   "source": [
    "print(\"The Middle Three Items In The List Are: \")\n",
    "print(foods[3:6])\n"
   ]
  },
  {
   "cell_type": "code",
   "execution_count": 13,
   "metadata": {},
   "outputs": [
    {
     "name": "stdout",
     "output_type": "stream",
     "text": [
      "The Last Three Items In The List Are: \n",
      "['Steak', 'Sandwich', 'Chicken Nuggets']\n"
     ]
    }
   ],
   "source": [
    "print(\"The Last Three Items In The List Are: \")\n",
    "print(foods[6:])\n"
   ]
  },
  {
   "cell_type": "markdown",
   "metadata": {},
   "source": [
    "# Q8 Start with your program from your last Question8.\n",
    "1. Make a copy of the list of foods, and call it friend_foods. \n",
    "2. Then, do the following: Add a new dish to the original list.\n",
    "3. Add a different dish to the list friend_foods. Prove that you have two separate lists.\n",
    "4. Print the message, My favorite pizzas are: and then use a for loop to print the first list.\n",
    "5. Print the message, My friend’s favorite foods are:, and then use a for loop to print the second list.NOTE: Make sure each new dish is stored in the appropriate list.\n"
   ]
  },
  {
   "cell_type": "code",
   "execution_count": 14,
   "metadata": {},
   "outputs": [
    {
     "name": "stdout",
     "output_type": "stream",
     "text": [
      "['Chiken Rice Balls', 'Koila Karahi', 'Pizza', 'Pasta', 'Fried Rice', 'Chowmein', 'Steak', 'Sandwich', 'Chicken Nuggets']\n"
     ]
    }
   ],
   "source": [
    "friend_foods = foods.copy()\n",
    "print(friend_foods)\n"
   ]
  },
  {
   "cell_type": "code",
   "execution_count": 16,
   "metadata": {},
   "outputs": [
    {
     "name": "stdout",
     "output_type": "stream",
     "text": [
      "['Chiken Rice Balls', 'Koila Karahi', 'Pizza', 'Pasta', 'Fried Rice', 'Chowmein', 'Steak', 'Sandwich', 'Chicken Nuggets', 'Lasagna', 'Biryani']\n"
     ]
    }
   ],
   "source": [
    "foods.append(\"Biryani\")\n",
    "print(foods)\n"
   ]
  },
  {
   "cell_type": "code",
   "execution_count": 17,
   "metadata": {},
   "outputs": [
    {
     "name": "stdout",
     "output_type": "stream",
     "text": [
      "['Chiken Rice Balls', 'Koila Karahi', 'Pizza', 'Pasta', 'Fried Rice', 'Chowmein', 'Steak', 'Sandwich', 'Chicken Nuggets', 'Fish Kabab']\n"
     ]
    }
   ],
   "source": [
    "friend_foods.append(\"Fish Kabab\")\n",
    "print(friend_foods)\n"
   ]
  },
  {
   "cell_type": "code",
   "execution_count": 21,
   "metadata": {},
   "outputs": [
    {
     "name": "stdout",
     "output_type": "stream",
     "text": [
      "Chiken Rice Balls, Koila Karahi, Pizza, Pasta, Fried Rice, Chowmein, Steaks, Sandwiches, Chicken Nuggets, Biryani, Chiken Rice Balls, Koila Karahi, Pizza, Pasta, Fried Rice, Chowmein, Steaks, Sandwiches, Chicken Nuggets, Fish Kabab "
     ]
    }
   ],
   "source": [
    "foods = []\n",
    "friend_foods = []\n",
    "\n",
    "foods.append(\"Chiken Rice Balls,\")\n",
    "foods.append(\"Koila Karahi,\")\n",
    "foods.append(\"Pizza,\")\n",
    "foods.append(\"Pasta,\")\n",
    "foods.append(\"Fried Rice,\")\n",
    "foods.append(\"Chowmein,\")\n",
    "foods.append(\"Steaks,\")\n",
    "foods.append(\"Sandwiches,\")\n",
    "foods.append(\"Chicken Nuggets,\")\n",
    "foods.append(\"Biryani,\")\n",
    "\n",
    "for i in foods:\n",
    "    print(i, end = \" \")\n",
    "    \n",
    "\n",
    "friend_foods.append(\"Chiken Rice Balls,\")\n",
    "friend_foods.append(\"Koila Karahi,\")\n",
    "friend_foods.append(\"Pizza,\")\n",
    "friend_foods.append(\"Pasta,\")\n",
    "friend_foods.append(\"Fried Rice,\")\n",
    "friend_foods.append(\"Chowmein,\")\n",
    "friend_foods.append(\"Steaks,\")\n",
    "friend_foods.append(\"Sandwiches,\")\n",
    "friend_foods.append(\"Chicken Nuggets,\")\n",
    "friend_foods.append(\"Fish Kabab\")\n",
    "    \n",
    "for j in friend_foods:\n",
    "    print(j, end = \" \")\n",
    "\n"
   ]
  },
  {
   "cell_type": "code",
   "execution_count": 22,
   "metadata": {},
   "outputs": [
    {
     "name": "stdout",
     "output_type": "stream",
     "text": [
      "My Favourite Foods are: Chiken Rice Balls,\n",
      "My Favourite Foods are: Koila Karahi,\n",
      "My Favourite Foods are: Pizza,\n",
      "My Favourite Foods are: Pasta,\n",
      "My Favourite Foods are: Fried Rice,\n",
      "My Favourite Foods are: Chowmein,\n",
      "My Favourite Foods are: Steaks,\n",
      "My Favourite Foods are: Sandwiches,\n",
      "My Favourite Foods are: Chicken Nuggets,\n",
      "My Favourite Foods are: Biryani,\n"
     ]
    }
   ],
   "source": [
    "for i in foods:\n",
    "    print(f\"My Favourite Foods are: {i}\")\n",
    "    \n"
   ]
  },
  {
   "cell_type": "code",
   "execution_count": 23,
   "metadata": {},
   "outputs": [
    {
     "name": "stdout",
     "output_type": "stream",
     "text": [
      "My Friend's Favourite Foods are: Chiken Rice Balls,\n",
      "My Friend's Favourite Foods are: Koila Karahi,\n",
      "My Friend's Favourite Foods are: Pizza,\n",
      "My Friend's Favourite Foods are: Pasta,\n",
      "My Friend's Favourite Foods are: Fried Rice,\n",
      "My Friend's Favourite Foods are: Chowmein,\n",
      "My Friend's Favourite Foods are: Steaks,\n",
      "My Friend's Favourite Foods are: Sandwiches,\n",
      "My Friend's Favourite Foods are: Chicken Nuggets,\n",
      "My Friend's Favourite Foods are: Fish Kabab\n"
     ]
    }
   ],
   "source": [
    "for i in friend_foods:\n",
    "    print(f\"My Friend's Favourite Foods are: {i}\")\n"
   ]
  },
  {
   "cell_type": "markdown",
   "metadata": {},
   "source": [
    "# Q9 Take a user input from console line.Store it in a variable called Alien_color.\n",
    "1. If the alien’s color is red, print a statement that the player just earned 5 points for shooting the alien.\n",
    "2. If the alien’s color isn’t green, print a statement that the player just earned 10 points.\n",
    "3. If the alien's color isn't red or green , print a statment :, Alien is no more.....\n"
   ]
  },
  {
   "cell_type": "code",
   "execution_count": 1,
   "metadata": {},
   "outputs": [
    {
     "name": "stdout",
     "output_type": "stream",
     "text": [
      "Enter the Alien Color: green\n",
      "Alien is no more\n"
     ]
    }
   ],
   "source": [
    "alien_color = input(\"Enter the Alien Color: \")\n",
    "alien_color = alien_color.lower()\n",
    "if alien_color == \"red\":\n",
    "    print(\"Player just earned 5 points for shooting the alien.\")\n",
    "elif alien_color != \"green\":\n",
    "    print(\"Player just earned 10 points for shooting the alien.\")\n",
    "else:\n",
    "    print(\"Alien is no more\")\n"
   ]
  },
  {
   "cell_type": "markdown",
   "metadata": {},
   "source": [
    "# Q10 Write an if-elif-else chain that determines a person’s stage of life. Set a value for the variable age, and then:\n",
    "1. If the person is less than 2 years old, print a message that the person is a baby.\n",
    "2. If the person is at least 2 years old but less than 4, print a message that the person is a toddler.\n",
    "3. If the person is at least 4 years old but less than 13, print a message that the person is a kid.\n",
    "4. If the person is at least 13 years old but less than 20, print a message that the person is a teenager.\n",
    "5. If the person is at least 20 years old but less than 65, print a message that the person is an adult.\n",
    "6. If the person is age 65 or older, print a message that the person is an elder.\n"
   ]
  },
  {
   "cell_type": "code",
   "execution_count": 2,
   "metadata": {},
   "outputs": [
    {
     "name": "stdout",
     "output_type": "stream",
     "text": [
      "Enter your age: 10\n",
      "Person is a Kid.\n"
     ]
    }
   ],
   "source": [
    "age = int(input(\"Enter your age: \"))\n",
    "if age < 2:\n",
    "    print(\"Person is a Baby\")\n",
    "elif age >= 2 and age < 4:\n",
    "    print(\"Person is a Toddler.\")\n",
    "elif age >= 4 and age < 13:\n",
    "    print(\"Person is a Kid.\")\n",
    "elif age >=13 and age < 20:\n",
    "    print(\"Person is a Teenager.\")\n",
    "elif age >=20 and age < 65:\n",
    "    print(\"Person is an Adult.\")\n",
    "elif age == 65 or age > 65:\n",
    "    print(\"Person is Elder.\")\n"
   ]
  },
  {
   "cell_type": "markdown",
   "metadata": {},
   "source": [
    "# Q11 Do the following to create a program that simulates how websites ensure that everyone has a unique username.\n",
    "1. Make a list of five or more usernames called current_users.\n",
    "2. Make another list of five usernames called new_users. Make sure one or two of the new usernames are also in the current_users list.\n",
    "3. Loop through the new_users list to see if each new username has already been used. If it has, print a message that the person will need to enter a new username. If a username has not been used, print a message saying that the username is available.\n",
    "4. Make sure your comparison is case insensitive. If 'John' has been used, 'JOHN' should not be accepted.\n"
   ]
  },
  {
   "cell_type": "code",
   "execution_count": 3,
   "metadata": {},
   "outputs": [
    {
     "name": "stdout",
     "output_type": "stream",
     "text": [
      "Maheen Username is avaliable.\n",
      "Fatima Username is avaliable.\n",
      "Ahmed username is not avaliable, You have to change your username.\n",
      "Bushra username is not avaliable, You have to change your username.\n",
      "Shahnaz Username is avaliable.\n"
     ]
    }
   ],
   "source": [
    "current_users = ['Shahrukh','Mehak','Bushra','Aneeqa', 'Ahmed']\n",
    "new_users = ['Maheen','Fatima','Ahmed','Bushra', 'Shahnaz']\n",
    "for i in new_users:\n",
    "    if i in current_users:\n",
    "        print(f\"{i} username is not avaliable, You have to change your username.\")\n",
    "    else:\n",
    "        print(f\"{i} Username is avaliable.\")\n"
   ]
  },
  {
   "cell_type": "markdown",
   "metadata": {},
   "source": [
    "# Q12 Use a dictionary to store information about a person you know. Store their first name, last name, age, and the city in which they live. You should have keys such as first_name, last_name, age, and city. Print each piece of information stored in your dictionary."
   ]
  },
  {
   "cell_type": "code",
   "execution_count": 4,
   "metadata": {},
   "outputs": [
    {
     "name": "stdout",
     "output_type": "stream",
     "text": [
      "My Name is Shahrukh Moin\n",
      "My age is 27\n",
      "I live in Karachi\n"
     ]
    }
   ],
   "source": [
    "personal_dict = {\"first_name\": \"Shahrukh\",\"last_name\": \"Moin\",\"age\":27,\"city\":\"Karachi\"}\n",
    "print(\"My Name is \"+str(personal_dict[\"first_name\"])+\" \"+str(personal_dict[\"last_name\"]))\n",
    "print(\"My age is \"+str(personal_dict[\"age\"]))\n",
    "print(\"I live in \"+str(personal_dict[\"city\"]))\n"
   ]
  },
  {
   "cell_type": "markdown",
   "metadata": {},
   "source": [
    "# Q13. Starts with your last question 12 , loop through the dictionary’s keys and values. When you’re sure that your loop works, add five more Python terms to your dictionary . When you run your program again, these new words and meanings should automatically be included in the output."
   ]
  },
  {
   "cell_type": "code",
   "execution_count": 5,
   "metadata": {},
   "outputs": [
    {
     "name": "stdout",
     "output_type": "stream",
     "text": [
      "list: List is used to gather values of different data types.\n",
      "loop: for loop used to repeat same things again help to reduce code complexity and time complexity.\n",
      "dictionary: It works on key value pair.\n",
      "key: The first item in a key-value pair in a dictionary.\n",
      "value: An item associated with a key in a dictionary.\n"
     ]
    }
   ],
   "source": [
    "dict1 = {\n",
    "    'list': 'List is used to gather values of different data types.',\n",
    "    'loop': 'for loop used to repeat same things again help to reduce code complexity and time complexity.',\n",
    "    'dictionary': \"It works on key value pair.\",\n",
    "    'key': 'The first item in a key-value pair in a dictionary.',\n",
    "    'value': 'An item associated with a key in a dictionary.', }\n",
    "\n",
    "for keys,values in dict1.items():\n",
    "    print(f\"{keys}: {values}\")\n"
   ]
  },
  {
   "cell_type": "markdown",
   "metadata": {},
   "source": [
    "# Q14 Make a dictionary containing three major rivers and the country each river runs through. One key-value pair might be 'nile': 'egypt'."
   ]
  },
  {
   "cell_type": "code",
   "execution_count": 6,
   "metadata": {},
   "outputs": [
    {
     "name": "stdout",
     "output_type": "stream",
     "text": [
      "The INDUS RIVER runs through PAKISTAN.\n",
      "The NILE runs through EGYPT.\n",
      "The AMAZON RIVER runs through BRAZIL.\n",
      "The YELLOW RIVER runs through CHINA.\n"
     ]
    }
   ],
   "source": [
    "rivers = {'Indus River':'Pakistan','Nile':'Egypt','Amazon River':'Brazil','Yellow River':'China'}\n",
    "for key,value in rivers.items():\n",
    "    print(f\"The {key.upper()} runs through {value.upper()}.\")\n"
   ]
  },
  {
   "cell_type": "markdown",
   "metadata": {},
   "source": [
    "# Q15 Make several dictionaries, where the name of each dictionary is the name of a pet. In each dictionary, include the kind of animal and the owner’s name. Store these dictionaries in a list called pets. Next, loop through your list and as you do print everything you know about each pet."
   ]
  },
  {
   "cell_type": "code",
   "execution_count": 10,
   "metadata": {},
   "outputs": [
    {
     "name": "stdout",
     "output_type": "stream",
     "text": [
      "Animal_type = Puppy\n",
      "Owner_name = Maham\n",
      "\n",
      "\n",
      "Animal_type = Rabbit\n",
      "Owner_name = Moin\n",
      "\n",
      "\n",
      "Animal_type = Kitten\n",
      "Owner_name = Nazim\n",
      "\n",
      "\n"
     ]
    }
   ],
   "source": [
    "pets = []\n",
    "pet = {'Animal_type': 'Puppy', 'Owner_name':'Maham'}\n",
    "pets.append(pet)\n",
    "pet = {'Animal_type':'Rabbit','Owner_name':'Moin'}\n",
    "pets.append(pet)\n",
    "pet = {'Animal_type':'Kitten','Owner_name':'Nazim'}\n",
    "pets.append(pet)\n",
    "for i in pets:\n",
    "    for key,values in i.items():\n",
    "        print(f\"{key} = {values}\")\n",
    "    print(\"\\n\")\n"
   ]
  },
  {
   "cell_type": "code",
   "execution_count": null,
   "metadata": {},
   "outputs": [],
   "source": []
  }
 ],
 "metadata": {
  "kernelspec": {
   "display_name": "Python 3",
   "language": "python",
   "name": "python3"
  },
  "language_info": {
   "codemirror_mode": {
    "name": "ipython",
    "version": 3
   },
   "file_extension": ".py",
   "mimetype": "text/x-python",
   "name": "python",
   "nbconvert_exporter": "python",
   "pygments_lexer": "ipython3",
   "version": "3.7.3"
  }
 },
 "nbformat": 4,
 "nbformat_minor": 2
}
