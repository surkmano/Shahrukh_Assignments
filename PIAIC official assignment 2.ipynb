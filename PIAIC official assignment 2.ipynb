{
 "cells": [
  {
   "cell_type": "markdown",
   "metadata": {},
   "source": [
    "# 1. Calculate Area of a Circle"
   ]
  },
  {
   "cell_type": "code",
   "execution_count": 1,
   "metadata": {},
   "outputs": [
    {
     "name": "stdout",
     "output_type": "stream",
     "text": [
      "Please enter the radius of circle 0.5\n",
      "radius is :  0.5\n",
      "Area of the circle is  0.7853981633974483\n"
     ]
    }
   ],
   "source": [
    "import math\n",
    "from math import pi\n",
    "\n",
    "radius=input(\"Please enter the radius of circle \")\n",
    "\n",
    "print(\"radius is : \", radius)\n",
    "\n",
    "Area_circle = pi*float(radius)**2\n",
    "\n",
    "print(\"Area of the circle is \", Area_circle)"
   ]
  },
  {
   "cell_type": "markdown",
   "metadata": {},
   "source": [
    "# 2. Check Number either Positive, Negative or Zero"
   ]
  },
  {
   "cell_type": "code",
   "execution_count": 9,
   "metadata": {},
   "outputs": [
    {
     "name": "stdout",
     "output_type": "stream",
     "text": [
      "Please enter any number: 3\n",
      "Number is Positive\n"
     ]
    }
   ],
   "source": [
    "numb =float(input(\"Please enter any number: \"))\n",
    "if numb > 0 :\n",
    "    print(\"Number is Positive\")\n",
    "elif numb < 0:\n",
    "    print (\"Number is Negative\")\n",
    "else :\n",
    "    print(\"Zero\")"
   ]
  },
  {
   "cell_type": "markdown",
   "metadata": {},
   "source": [
    "# 3. Divisibility Check of two numbers"
   ]
  },
  {
   "cell_type": "code",
   "execution_count": 2,
   "metadata": {},
   "outputs": [
    {
     "name": "stdout",
     "output_type": "stream",
     "text": [
      "Please enter the Numenator:7\n",
      "Please enter the Denominator:4\n",
      "Number 7 is not divisible by 4 \n"
     ]
    }
   ],
   "source": [
    "Nume = int(input(\"Please enter the Numenator:\"))\n",
    "Denom = int(input(\"Please enter the Denominator:\"))\n",
    "if Nume % Denom == 0: \n",
    "    print(f\"Number {Nume} is divisible by {Denom} \")\n",
    "else:\n",
    "    print(f\"Number {Nume} is not divisible by {Denom} \")"
   ]
  },
  {
   "cell_type": "markdown",
   "metadata": {},
   "source": [
    "# 4. Calculate Volume of a Sphere"
   ]
  },
  {
   "cell_type": "code",
   "execution_count": 7,
   "metadata": {},
   "outputs": [
    {
     "name": "stdout",
     "output_type": "stream",
     "text": [
      "Enter the radius of the sphere: 1\n",
      " Volume of the sphere is 4.19  \n"
     ]
    }
   ],
   "source": [
    "import math\n",
    "radius = float(input (\"Enter the radius of the sphere: \"))\n",
    "volume = (4 / 3) * math.pi * (radius**3)\n",
    "volume = round(volume,2)\n",
    "print(f\" Volume of the sphere is {volume}  \")"
   ]
  },
  {
   "cell_type": "markdown",
   "metadata": {},
   "source": [
    "# 5. Copy String n Times"
   ]
  },
  {
   "cell_type": "code",
   "execution_count": 14,
   "metadata": {},
   "outputs": [
    {
     "name": "stdout",
     "output_type": "stream",
     "text": [
      "enter string:Hi\n",
      "enter required number of copies:4\n",
      "HiHiHiHi\n"
     ]
    }
   ],
   "source": [
    "string = input(\"enter string:\")\n",
    "n = int(input(\"enter required number of copies:\"))\n",
    "string_cpy = str_cpy(string,n)\n",
    "print(string_cpy)"
   ]
  },
  {
   "cell_type": "markdown",
   "metadata": {},
   "source": [
    "# 6. Check if Number is Even or Odd"
   ]
  },
  {
   "cell_type": "code",
   "execution_count": 16,
   "metadata": {},
   "outputs": [
    {
     "name": "stdout",
     "output_type": "stream",
     "text": [
      "enter any number:3\n",
      "3 is odd number\n"
     ]
    }
   ],
   "source": [
    "n = int(input(\"enter any number:\"))\n",
    "if n % 2 ==0:\n",
    "    print(f\"{n} is even number\")\n",
    "else:\n",
    "    print(f\"{n} is odd number\")\n"
   ]
  },
  {
   "cell_type": "markdown",
   "metadata": {},
   "source": [
    "# 7. Vowel Tester"
   ]
  },
  {
   "cell_type": "code",
   "execution_count": 2,
   "metadata": {},
   "outputs": [
    {
     "name": "stdout",
     "output_type": "stream",
     "text": [
      "enter a character:i\n",
      "letter i is vowel\n"
     ]
    }
   ],
   "source": [
    "v = input(\"enter a character:\")\n",
    "if(v =='A' or v =='a' or v =='E' or v =='e' or v =='I'\n",
    " or v =='i' or v =='O' or v =='o' or v =='U' or v =='u'):\n",
    "    print(f\"letter {v} is vowel\")\n",
    "else:\n",
    "    print (f\" letter {v} is not vowel\")"
   ]
  },
  {
   "cell_type": "markdown",
   "metadata": {},
   "source": [
    "# 8. Triangle Area"
   ]
  },
  {
   "cell_type": "code",
   "execution_count": 30,
   "metadata": {},
   "outputs": [
    {
     "name": "stdout",
     "output_type": "stream",
     "text": [
      "Enter Base of a Triangle:3\n",
      "Enter Height of a Triangle:4\n",
      "Area of a Triangle is: 6.0\n"
     ]
    }
   ],
   "source": [
    "Base = int(input(\"Enter Base of a Triangle:\"))\n",
    "Height = int(input(\"Enter Height of a Triangle:\"))\n",
    "Area = 1/2 * Base*Height\n",
    "print(f\"Area of a Triangle is: {Area}\")"
   ]
  },
  {
   "cell_type": "markdown",
   "metadata": {},
   "source": [
    "# 9. Calculate Interest"
   ]
  },
  {
   "cell_type": "code",
   "execution_count": 29,
   "metadata": {},
   "outputs": [
    {
     "name": "stdout",
     "output_type": "stream",
     "text": [
      "Enter the principal amount:10000\n",
      "Enter the rate of interest:0.1\n",
      "Enter the number of years:5\n",
      "After 5 years your principal amount 10000 over a rate of interest 0.1 % will be 10.0\n"
     ]
    }
   ],
   "source": [
    "import math\n",
    "Principal_amount = int(input(\"Enter the principal amount:\"))\n",
    "Rate = float(input(\"Enter the rate of interest:\"))\n",
    "Number_of_Years = int(input(\"Enter the number of years:\"))\n",
    "rate = 0.1* 100\n",
    "interest_rate = Principal_amount * ((1 + (10/100)) ** Number_of_Years)\n",
    "interest_rate = round(interest_rate, 2)\n",
    "print(f\"After {Number_of_Years} years your principal amount {Principal_amount} over a rate of interest {Rate} % will be {Interest_Rate}\")"
   ]
  },
  {
   "cell_type": "markdown",
   "metadata": {},
   "source": [
    "# 10. Euclidean distance"
   ]
  },
  {
   "cell_type": "code",
   "execution_count": 44,
   "metadata": {
    "scrolled": true
   },
   "outputs": [
    {
     "name": "stdout",
     "output_type": "stream",
     "text": [
      "Enter the value of x1: 2\n",
      "Enter the value of y1: 4\n",
      "Enter the value of x2: 4\n",
      "Enter the value of y2: 4\n",
      "(x1,y1) = (2.0,4.0)\n",
      "(x2,y2) = (4.0,4.0)\n",
      "The distance between points (2.0,4.0) and (4.0,4.0) are: 2.0\n"
     ]
    }
   ],
   "source": [
    "import math\n",
    "x1 = float(input(\"Enter the value of x1: \"))\n",
    "y1 = float(input(\"Enter the value of y1: \"))\n",
    "x2 = float(input(\"Enter the value of x2: \"))\n",
    "y2 = float(input(\"Enter the value of y2: \"))\n",
    "(x1,y1) = (2.0, 4.0)\n",
    "(x2,y2) = (4.0, 4.0)\n",
    "print(f\"(x1,y1) = ({x1},{y1})\")\n",
    "print(f\"(x2,y2) = ({x2},{y2})\")\n",
    "distance_formula = math.sqrt(pow(x2-x1,2) + pow (y2-y1,2))\n",
    "distance_formula = round(distance_formula,2)\n",
    "print(f\"The distance between point# 10. Euclidean distances ({x1},{y1}) and ({x2},{y2}) are: {distance_formula}\")\n"
   ]
  },
  {
   "cell_type": "markdown",
   "metadata": {},
   "source": [
    "#  11. Feet to Centimeter Convertor"
   ]
  },
  {
   "cell_type": "code",
   "execution_count": 45,
   "metadata": {},
   "outputs": [
    {
     "name": "stdout",
     "output_type": "stream",
     "text": [
      "Please enter your height in feet5\n",
      "5 ft height in centimeters:152.4cm \n"
     ]
    }
   ],
   "source": [
    "feet = int(input(\"Please enter your height in feet\"))\n",
    "centimeter = feet * 30.48\n",
    "print(f\"{feet} ft height in centimeters:{centimeter}cm \")"
   ]
  },
  {
   "cell_type": "markdown",
   "metadata": {},
   "source": [
    "# 12. BMI Calculator"
   ]
  },
  {
   "cell_type": "code",
   "execution_count": 49,
   "metadata": {},
   "outputs": [
    {
     "name": "stdout",
     "output_type": "stream",
     "text": [
      "Enter the height in centimeter180\n",
      "Enter the weight in kilogram75\n",
      "Your Body Mass Index is: 23.148148148148145\n"
     ]
    }
   ],
   "source": [
    "import math\n",
    "height = float(input(\"Enter the height in centimeter\"))\n",
    "weight = float(input(\"Enter the weight in kilogram\"))\n",
    "BMI = (weight / math.pow(height * 0.01,2))\n",
    "print(f\"Your Body Mass Index is: {BMI}\")\n",
    "\n"
   ]
  },
  {
   "cell_type": "markdown",
   "metadata": {},
   "source": [
    "# 13. Sum of n Positive Integers"
   ]
  },
  {
   "cell_type": "code",
   "execution_count": 50,
   "metadata": {},
   "outputs": [
    {
     "name": "stdout",
     "output_type": "stream",
     "text": [
      "Enter the value of N5\n",
      "Sum of n Positive Integer till 5 is 15\n"
     ]
    }
   ],
   "source": [
    "total = 0\n",
    "num = int(input(\"Enter the value of N\"))\n",
    "for i in range(num+1) :\n",
    "    total += i\n",
    "print(f\"Sum of n Positive Integer till {num} is {total}\")"
   ]
  },
  {
   "cell_type": "markdown",
   "metadata": {},
   "source": [
    "# 14. Digits Sum of a Number"
   ]
  },
  {
   "cell_type": "code",
   "execution_count": 55,
   "metadata": {},
   "outputs": [
    {
     "name": "stdout",
     "output_type": "stream",
     "text": [
      "Enter integer value: 1234\n",
      "Sum of 1 2 3 4 is 10\n"
     ]
    }
   ],
   "source": [
    "num = int(input(\"Enter integer value: \"))\n",
    "a = num//1000\n",
    "b = (num-a*1000)//100\n",
    "c = (num-a*1000-b*100)//10\n",
    "d = num-a*1000-b*100-c*10\n",
    "print(f\"Sum of {a} {b} {c} {d} is {a+b+c+d}\")"
   ]
  },
  {
   "cell_type": "code",
   "execution_count": null,
   "metadata": {},
   "outputs": [],
   "source": []
  }
 ],
 "metadata": {
  "kernelspec": {
   "display_name": "Python 3",
   "language": "python",
   "name": "python3"
  },
  "language_info": {
   "codemirror_mode": {
    "name": "ipython",
    "version": 3
   },
   "file_extension": ".py",
   "mimetype": "text/x-python",
   "name": "python",
   "nbconvert_exporter": "python",
   "pygments_lexer": "ipython3",
   "version": "3.7.3"
  }
 },
 "nbformat": 4,
 "nbformat_minor": 2
}
